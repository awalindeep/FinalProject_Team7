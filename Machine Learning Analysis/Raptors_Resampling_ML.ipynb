{
 "cells": [
  {
   "cell_type": "code",
   "execution_count": 1,
   "id": "847a186f",
   "metadata": {},
   "outputs": [],
   "source": [
    "import warnings\n",
    "warnings.filterwarnings('ignore')"
   ]
  },
  {
   "cell_type": "code",
   "execution_count": 3,
   "id": "392a0ae1",
   "metadata": {},
   "outputs": [],
   "source": [
    "import numpy as np\n",
    "import pandas as pd\n",
    "from pathlib import Path\n",
    "from collections import Counter"
   ]
  },
  {
   "cell_type": "markdown",
   "id": "3239a813",
   "metadata": {},
   "source": [
    "# Load in CSV data files - Regular and Playoffs Games"
   ]
  },
  {
   "cell_type": "code",
   "execution_count": null,
   "id": "fd2c1ba4",
   "metadata": {},
   "outputs": [],
   "source": [
    "# Load the regular season data\n",
    "file_path = Path('.../Resources')\n",
    "\n",
    "reg_df = pd.read_csv(f\"{file_path}/raptors_regulars.csv\")\n"
   ]
  }
 ],
 "metadata": {
  "kernelspec": {
   "display_name": "mlenv",
   "language": "python",
   "name": "mlenv"
  },
  "language_info": {
   "codemirror_mode": {
    "name": "ipython",
    "version": 3
   },
   "file_extension": ".py",
   "mimetype": "text/x-python",
   "name": "python",
   "nbconvert_exporter": "python",
   "pygments_lexer": "ipython3",
   "version": "3.7.13"
  }
 },
 "nbformat": 4,
 "nbformat_minor": 5
}
